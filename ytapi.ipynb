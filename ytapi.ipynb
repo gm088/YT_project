{
 "cells": [
  {
   "cell_type": "code",
   "execution_count": 1,
   "metadata": {},
   "outputs": [],
   "source": [
    "import json\n",
    "from googleapiclient.discovery import build\n",
    "import googleapiclient.errors\n",
    "import pandas as pd\n",
    "import os\n",
    "#if os.path.isfile(checkpoint):"
   ]
  },
  {
   "cell_type": "code",
   "execution_count": 2,
   "metadata": {},
   "outputs": [],
   "source": [
    "api_key = \"None\"\n",
    "\n",
    "#use the build() function to create a service object\n",
    "youtube = build(\"youtube\", \"v3\", developerKey = api_key)\n",
    "\n",
    "#print(json.dumps(response,sort_keys=True,indent=3))"
   ]
  },
  {
   "cell_type": "code",
   "execution_count": 12,
   "metadata": {},
   "outputs": [
    {
     "name": "stdout",
     "output_type": "stream",
     "text": [
      "23\n"
     ]
    }
   ],
   "source": [
    "#put in a search phrase\n",
    "numres=25\n",
    "searchres = youtube.search().list(part=\"snippet\", maxResults=numres, q=\"Eric Clapton\").execute()\n",
    "#print(searchres[\"items\"][10])\n",
    "\n",
    "#list to hold ids which we will use to get tags\n",
    "vidids = []\n",
    "for i in range(len(searchres[\"items\"])):\n",
    "    try:\n",
    "        vidids.append(searchres[\"items\"][i][\"id\"][\"videoId\"])\n",
    "    except KeyError:\n",
    "        continue\n",
    "\n",
    "print(len(vidids))"
   ]
  },
  {
   "cell_type": "code",
   "execution_count": 43,
   "metadata": {},
   "outputs": [],
   "source": [
    "#I guess we start simple - we'll save the tags and the title and use those to classify\n",
    "df = []\n",
    "#parse and take only data we want\n",
    "for i in range(len(vidids)):\n",
    "    response = youtube.videos().list(part=\"snippet,statistics\", id=vidids[i]).execute()\n",
    "    try:\n",
    "        df.append(pd.DataFrame({\"title\": response[\"items\"][0][\"snippet\"][\"title\"],\\\n",
    "                           \"tags\": [response[\"items\"][0][\"snippet\"][\"tags\"][:5]],\\\n",
    "                          \"likes\": response[\"items\"][0][\"statistics\"][\"likeCount\"],\\\n",
    "                          \"dislikes\": response[\"items\"][0][\"statistics\"][\"dislikeCount\"],\\\n",
    "                          \"views\": response[\"items\"][0][\"statistics\"][\"viewCount\"],\\\n",
    "                            \"Broad Tag\": \"Music\"}))\n",
    "    except KeyError:         #some videos do not have tags apparently\n",
    "        continue\n",
    "if os.path.isfile(\"vids.pkl\"):\n",
    "    vids = pd.read_pickle(\"vids.pkl\")\n",
    "    new = pd.concat(df)\n",
    "    vids = pd.concat([vids,new], ignore_index=True)\n",
    "    vids.to_pickle(\"vids.pkl\")\n",
    "else:\n",
    "    vids = pd.concat(df)\n"
   ]
  },
  {
   "cell_type": "code",
   "execution_count": 11,
   "metadata": {},
   "outputs": [],
   "source": []
  }
 ],
 "metadata": {
  "kernelspec": {
   "display_name": "Python 3",
   "language": "python",
   "name": "python3"
  },
  "language_info": {
   "codemirror_mode": {
    "name": "ipython",
    "version": 3
   },
   "file_extension": ".py",
   "mimetype": "text/x-python",
   "name": "python",
   "nbconvert_exporter": "python",
   "pygments_lexer": "ipython3",
   "version": "3.5.2"
  }
 },
 "nbformat": 4,
 "nbformat_minor": 4
}
