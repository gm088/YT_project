{
 "cells": [
  {
   "cell_type": "code",
   "execution_count": 10,
   "metadata": {},
   "outputs": [],
   "source": [
    "import json\n",
    "from googleapiclient.discovery import build\n",
    "import googleapiclient.errors\n",
    "import pandas as pd\n"
   ]
  },
  {
   "cell_type": "code",
   "execution_count": 2,
   "metadata": {},
   "outputs": [],
   "source": [
    "api_key = \"None\"\n",
    "\n",
    "#use the build() function to create a service object\n",
    "\n",
    "youtube = build(\"youtube\", \"v3\", developerKey = api_key)\n",
    "\n",
    "#response = youtube.videos().list(part=\"snippet,statistics\", id=\"aeDsYx34oOM\").execute()\n",
    "#print(json.dumps(response,sort_keys=True,indent=3))"
   ]
  },
  {
   "cell_type": "code",
   "execution_count": 8,
   "metadata": {},
   "outputs": [
    {
     "name": "stdout",
     "output_type": "stream",
     "text": [
      "23\n"
     ]
    }
   ],
   "source": [
    "#put in a search phrase\n",
    "numres=25\n",
    "searchres = youtube.search().list(part=\"snippet\", maxResults=numres, q=\"al di meola\").execute()\n",
    "#print(searchres[\"items\"][10])\n",
    "\n",
    "#list to hold ids which we will use to get tags\n",
    "vidids = []\n",
    "for i in range(len(searchres[\"items\"])):\n",
    "    try:\n",
    "        vidids.append(searchres[\"items\"][i][\"id\"][\"videoId\"])\n",
    "    except KeyError:\n",
    "        continue\n",
    "\n",
    "print(len(vidids))"
   ]
  },
  {
   "cell_type": "code",
   "execution_count": 19,
   "metadata": {},
   "outputs": [
    {
     "data": {
      "text/html": [
       "<div>\n",
       "<style scoped>\n",
       "    .dataframe tbody tr th:only-of-type {\n",
       "        vertical-align: middle;\n",
       "    }\n",
       "\n",
       "    .dataframe tbody tr th {\n",
       "        vertical-align: top;\n",
       "    }\n",
       "\n",
       "    .dataframe thead th {\n",
       "        text-align: right;\n",
       "    }\n",
       "</style>\n",
       "<table border=\"1\" class=\"dataframe\">\n",
       "  <thead>\n",
       "    <tr style=\"text-align: right;\">\n",
       "      <th></th>\n",
       "      <th>dislikes</th>\n",
       "      <th>likes</th>\n",
       "      <th>tags</th>\n",
       "      <th>title</th>\n",
       "      <th>views</th>\n",
       "    </tr>\n",
       "  </thead>\n",
       "  <tbody>\n",
       "    <tr>\n",
       "      <th>0</th>\n",
       "      <td>24</td>\n",
       "      <td>429</td>\n",
       "      <td>[PRS, Al, Di, Meola, Prism]</td>\n",
       "      <td>PRS Al Di Meola Prism signature guitar demo - ...</td>\n",
       "      <td>175553</td>\n",
       "    </tr>\n",
       "  </tbody>\n",
       "</table>\n",
       "</div>"
      ],
      "text/plain": [
       "  dislikes likes                         tags  \\\n",
       "0       24   429  [PRS, Al, Di, Meola, Prism]   \n",
       "\n",
       "                                               title   views  \n",
       "0  PRS Al Di Meola Prism signature guitar demo - ...  175553  "
      ]
     },
     "execution_count": 19,
     "metadata": {},
     "output_type": "execute_result"
    }
   ],
   "source": [
    "#I guess we start simple - we'll save the tags and the title and use those to classify\n",
    "\n",
    "#parse and take only data we want\n",
    "for i in vidids:\n",
    "    response = youtube.videos().list(part=\"snippet,statistics\", id=i).execute()\n",
    "    try:\n",
    "        df = pd.DataFrame({\"title\": response[\"items\"][0][\"snippet\"][\"title\"],\\\n",
    "                           \"tags\": [response[\"items\"][0][\"snippet\"][\"tags\"][:5]],\\\n",
    "                          \"likes\": response[\"items\"][0][\"statistics\"][\"likeCount\"],\\\n",
    "                          \"dislikes\": response[\"items\"][0][\"statistics\"][\"dislikeCount\"],\\\n",
    "                          \"views\": response[\"items\"][0][\"statistics\"][\"viewCount\"]})\n",
    "    except KeyError:\n",
    "        continue\n",
    "     \n",
    "df"
   ]
  }
 ],
 "metadata": {
  "kernelspec": {
   "display_name": "Python 3",
   "language": "python",
   "name": "python3"
  },
  "language_info": {
   "codemirror_mode": {
    "name": "ipython",
    "version": 3
   },
   "file_extension": ".py",
   "mimetype": "text/x-python",
   "name": "python",
   "nbconvert_exporter": "python",
   "pygments_lexer": "ipython3",
   "version": "3.5.2"
  }
 },
 "nbformat": 4,
 "nbformat_minor": 4
}
