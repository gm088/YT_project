{
 "cells": [
  {
   "cell_type": "code",
   "execution_count": 3,
   "metadata": {},
   "outputs": [
    {
     "data": {
      "text/plain": [
       "array(['Comedy', 'Gaming', 'Music', 'News', 'Sports', 'Tutorial'],\n",
       "      dtype=object)"
      ]
     },
     "execution_count": 3,
     "metadata": {},
     "output_type": "execute_result"
    }
   ],
   "source": [
    "import pandas as pd\n",
    "import matplotlib.pyplot as plt\n",
    "import os\n",
    "from sklearn.feature_extraction.text import CountVectorizer, TfidfVectorizer\n",
    "from sklearn.model_selection import train_test_split\n",
    "import numpy as np\n",
    "import tensorflow as tf\n",
    "from tensorflow import keras\n",
    "from sklearn.preprocessing import LabelEncoder\n",
    "\n",
    "if os.path.isfile(\"vids.pkl\"):\n",
    "    vids = pd.read_pickle(\"vids.pkl\")\n",
    "    \n",
    "#randomise rows\n",
    "vids = vids.sample(frac=1).reset_index(drop=True)\n",
    "le = LabelEncoder()\n",
    "le.fit(vids[\"Broad Tag\"].unique());"
   ]
  },
  {
   "cell_type": "code",
   "execution_count": 10,
   "metadata": {},
   "outputs": [],
   "source": [
    "vids[\"TagCode\"] = le.transform(vids[\"Broad Tag\"])"
   ]
  },
  {
   "cell_type": "code",
   "execution_count": 11,
   "metadata": {},
   "outputs": [],
   "source": [
    "#we will use title and broad tag first\n",
    "\n",
    "training, test = train_test_split(vids, test_size=0.33, random_state=42)\n",
    "train_x = training[\"title\"]\n",
    "train_y = training[\"TagCode\"]\n",
    "\n",
    "test_x = test[\"title\"]\n",
    "test_y = test[\"TagCode\"]"
   ]
  },
  {
   "cell_type": "code",
   "execution_count": 12,
   "metadata": {},
   "outputs": [],
   "source": [
    "vect = CountVectorizer()\n",
    "tr_x = vect.fit_transform(train_x)\n",
    "tes_x = vect.transform(test_x)"
   ]
  },
  {
   "cell_type": "code",
   "execution_count": 49,
   "metadata": {},
   "outputs": [
    {
     "ename": "AttributeError",
     "evalue": "'numpy.ndarray' object has no attribute 'toarray'",
     "output_type": "error",
     "traceback": [
      "\u001b[0;31m---------------------------------------------------------------------------\u001b[0m",
      "\u001b[0;31mAttributeError\u001b[0m                            Traceback (most recent call last)",
      "\u001b[0;32m<ipython-input-49-4f50bcff7d83>\u001b[0m in \u001b[0;36m<module>\u001b[0;34m\u001b[0m\n\u001b[0;32m----> 1\u001b[0;31m \u001b[0mtr_x\u001b[0m \u001b[0;34m=\u001b[0m \u001b[0mtr_x\u001b[0m\u001b[0;34m.\u001b[0m\u001b[0mtoarray\u001b[0m\u001b[0;34m(\u001b[0m\u001b[0;34m)\u001b[0m\u001b[0;34m\u001b[0m\u001b[0m\n\u001b[0m",
      "\u001b[0;31mAttributeError\u001b[0m: 'numpy.ndarray' object has no attribute 'toarray'"
     ]
    }
   ],
   "source": [
    "tr_x = tr_x.toarray()"
   ]
  },
  {
   "cell_type": "code",
   "execution_count": 50,
   "metadata": {},
   "outputs": [],
   "source": [
    "tes_x = tes_x.toarray()"
   ]
  },
  {
   "cell_type": "code",
   "execution_count": 44,
   "metadata": {},
   "outputs": [],
   "source": [
    "model = keras.Sequential([\n",
    "    keras.layers.Flatten(input_shape=(1,719)),\n",
    "    keras.layers.Dense(128, activation='relu'),\n",
    "    keras.layers.Dense(6)\n",
    "])"
   ]
  },
  {
   "cell_type": "code",
   "execution_count": 45,
   "metadata": {},
   "outputs": [],
   "source": [
    "model.compile(optimizer='adam',\n",
    "              loss=tf.keras.losses.SparseCategoricalCrossentropy(from_logits=True),\n",
    "              metrics=['accuracy'])"
   ]
  },
  {
   "cell_type": "code",
   "execution_count": 46,
   "metadata": {},
   "outputs": [
    {
     "name": "stdout",
     "output_type": "stream",
     "text": [
      "Epoch 1/10\n",
      "WARNING:tensorflow:Model was constructed with shape (None, 1, 719) for input Tensor(\"flatten_7_input:0\", shape=(None, 1, 719), dtype=float32), but it was called on an input with incompatible shape (None, 719).\n",
      "WARNING:tensorflow:Model was constructed with shape (None, 1, 719) for input Tensor(\"flatten_7_input:0\", shape=(None, 1, 719), dtype=float32), but it was called on an input with incompatible shape (None, 719).\n",
      "6/6 [==============================] - 0s 8ms/step - loss: 1.7725 - accuracy: 0.2121\n",
      "Epoch 2/10\n",
      "6/6 [==============================] - 0s 2ms/step - loss: 1.5831 - accuracy: 0.7030\n",
      "Epoch 3/10\n",
      "6/6 [==============================] - 0s 2ms/step - loss: 1.4196 - accuracy: 0.9455\n",
      "Epoch 4/10\n",
      "6/6 [==============================] - 0s 2ms/step - loss: 1.2690 - accuracy: 0.9879\n",
      "Epoch 5/10\n",
      "6/6 [==============================] - 0s 2ms/step - loss: 1.1221 - accuracy: 0.9879\n",
      "Epoch 6/10\n",
      "6/6 [==============================] - 0s 2ms/step - loss: 0.9807 - accuracy: 0.9939\n",
      "Epoch 7/10\n",
      "6/6 [==============================] - 0s 2ms/step - loss: 0.8430 - accuracy: 1.0000\n",
      "Epoch 8/10\n",
      "6/6 [==============================] - 0s 2ms/step - loss: 0.7146 - accuracy: 1.0000\n",
      "Epoch 9/10\n",
      "6/6 [==============================] - 0s 2ms/step - loss: 0.5970 - accuracy: 1.0000\n",
      "Epoch 10/10\n",
      "6/6 [==============================] - 0s 2ms/step - loss: 0.4918 - accuracy: 1.0000\n"
     ]
    },
    {
     "data": {
      "text/plain": [
       "<tensorflow.python.keras.callbacks.History at 0x7f4ab4d08710>"
      ]
     },
     "execution_count": 46,
     "metadata": {},
     "output_type": "execute_result"
    }
   ],
   "source": [
    "model.fit(tr_x, train_y, epochs=10)"
   ]
  },
  {
   "cell_type": "code",
   "execution_count": 52,
   "metadata": {},
   "outputs": [
    {
     "name": "stdout",
     "output_type": "stream",
     "text": [
      "3/3 - 0s - loss: 0.7096 - accuracy: 0.9268\n",
      "0.9268292784690857\n"
     ]
    }
   ],
   "source": [
    "test_loss, test_acc = model.evaluate(tes_x, test_y, verbose=2)\n",
    "print(test_acc)"
   ]
  },
  {
   "cell_type": "code",
   "execution_count": 54,
   "metadata": {},
   "outputs": [
    {
     "name": "stdout",
     "output_type": "stream",
     "text": [
      "WARNING:tensorflow:Model was constructed with shape (None, 1, 719) for input Tensor(\"sequential_4_input_1:0\", shape=(None, 1, 719), dtype=float32), but it was called on an input with incompatible shape (None, 719).\n",
      "WARNING:tensorflow:Model was constructed with shape (None, 1, 719) for input Tensor(\"flatten_7_input:0\", shape=(None, 1, 719), dtype=float32), but it was called on an input with incompatible shape (None, 719).\n"
     ]
    }
   ],
   "source": [
    "probability_model = tf.keras.Sequential([model, tf.keras.layers.Softmax()])\n",
    "predictions = probability_model.predict(tes_x);"
   ]
  },
  {
   "cell_type": "code",
   "execution_count": 82,
   "metadata": {},
   "outputs": [
    {
     "data": {
      "text/plain": [
       "array([0.05714076, 0.08008232, 0.21827549, 0.1154823 , 0.41258016,\n",
       "       0.11643892], dtype=float32)"
      ]
     },
     "execution_count": 82,
     "metadata": {},
     "output_type": "execute_result"
    }
   ],
   "source": [
    "le.inverse_transform([np.argmax(predictions[2])]);\n",
    "predictions[0]"
   ]
  },
  {
   "cell_type": "code",
   "execution_count": 98,
   "metadata": {},
   "outputs": [
    {
     "data": {
      "text/plain": [
       "array(['Tutorial'], dtype=object)"
      ]
     },
     "execution_count": 98,
     "metadata": {},
     "output_type": "execute_result"
    }
   ],
   "source": [
    "le.inverse_transform([np.argmax(probability_model.predict(vect.transform([\"how to swim\"]).toarray()))])"
   ]
  },
  {
   "cell_type": "code",
   "execution_count": 99,
   "metadata": {},
   "outputs": [
    {
     "data": {
      "text/plain": [
       "array([[0.08862431, 0.12510645, 0.19499986, 0.09144052, 0.10472817,\n",
       "        0.39510074]], dtype=float32)"
      ]
     },
     "execution_count": 99,
     "metadata": {},
     "output_type": "execute_result"
    }
   ],
   "source": [
    "hmm = probability_model.predict(vect.transform([\"how to swim\"]).toarray())\n",
    "hmm"
   ]
  }
 ],
 "metadata": {
  "kernelspec": {
   "display_name": "Python 3",
   "language": "python",
   "name": "python3"
  },
  "language_info": {
   "codemirror_mode": {
    "name": "ipython",
    "version": 3
   },
   "file_extension": ".py",
   "mimetype": "text/x-python",
   "name": "python",
   "nbconvert_exporter": "python",
   "pygments_lexer": "ipython3",
   "version": "3.5.2"
  }
 },
 "nbformat": 4,
 "nbformat_minor": 4
}
