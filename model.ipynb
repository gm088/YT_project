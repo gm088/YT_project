{
 "cells": [
  {
   "cell_type": "code",
   "execution_count": 84,
   "metadata": {},
   "outputs": [],
   "source": [
    "\"\"\"the \"broad tags\" is simply a way to treat the data in a very easy manner - in the sense \n",
    "that a data value can only have one label\n",
    "for the purposes of learning about simple models using data I collect from the Internet\"\"\"\n",
    "\n",
    "\"\"\"data collected using search.py script which writes to the DataFrame object\"\"\"\n",
    "\n",
    "import pandas as pd\n",
    "import os\n",
    "from sklearn.feature_extraction.text import CountVectorizer, TfidfVectorizer\n",
    "from sklearn.model_selection import train_test_split\n",
    "from sklearn import svm\n",
    "from sklearn.tree import DecisionTreeClassifier\n",
    "import numpy as np"
   ]
  },
  {
   "cell_type": "code",
   "execution_count": 56,
   "metadata": {},
   "outputs": [],
   "source": [
    "if os.path.isfile(\"vids.pkl\"):\n",
    "    vids = pd.read_pickle(\"vids.pkl\")\n",
    "    \n",
    "#randomise rows\n",
    "vids = vids.sample(frac=1).reset_index(drop=True)\n",
    "\n",
    "#we will use title and broad tag first\n",
    "\n",
    "training, test = train_test_split(vids, test_size=0.33, random_state=42)\n",
    "train_x = training[\"title\"]\n",
    "train_y = training[\"Broad Tag\"]\n",
    "\n",
    "test_x = test[\"title\"]\n",
    "test_y = test[\"Broad Tag\"]"
   ]
  },
  {
   "cell_type": "code",
   "execution_count": 57,
   "metadata": {},
   "outputs": [],
   "source": [
    "#input is text, so we need to make them into arrays of numbers\n",
    "vect = CountVectorizer()\n",
    "tr_x = vect.fit_transform(train_x)\n",
    "tes_x = vect.transform(test_x)\n",
    "\n",
    "#print(tr_x[0].toarray())"
   ]
  },
  {
   "cell_type": "code",
   "execution_count": 58,
   "metadata": {},
   "outputs": [
    {
     "data": {
      "text/plain": [
       "SVC(C=1.0, break_ties=False, cache_size=200, class_weight=None, coef0=0.0,\n",
       "    decision_function_shape='ovr', degree=3, gamma='scale', kernel='linear',\n",
       "    max_iter=-1, probability=False, random_state=None, shrinking=True,\n",
       "    tol=0.001, verbose=False)"
      ]
     },
     "execution_count": 58,
     "metadata": {},
     "output_type": "execute_result"
    }
   ],
   "source": [
    "#Classification\n",
    "\n",
    "SVM = svm.SVC(kernel='linear')\n",
    "\n",
    "SVM.fit(tr_x,train_y)"
   ]
  },
  {
   "cell_type": "code",
   "execution_count": 59,
   "metadata": {},
   "outputs": [],
   "source": [
    "pred_y = SVM.predict(tes_x)"
   ]
  },
  {
   "cell_type": "code",
   "execution_count": 72,
   "metadata": {},
   "outputs": [
    {
     "name": "stdout",
     "output_type": "stream",
     "text": [
      "              precision    recall  f1-score   support\n",
      "\n",
      "      Comedy       1.00      1.00      1.00         8\n",
      "      Gaming       1.00      1.00      1.00        12\n",
      "       Music       1.00      1.00      1.00        26\n",
      "        News       1.00      1.00      1.00        12\n",
      "      Sports       1.00      1.00      1.00        10\n",
      "    Tutorial       1.00      1.00      1.00        14\n",
      "\n",
      "    accuracy                           1.00        82\n",
      "   macro avg       1.00      1.00      1.00        82\n",
      "weighted avg       1.00      1.00      1.00        82\n",
      "\n",
      "[[ 8  0  0  0  0  0]\n",
      " [ 0 12  0  0  0  0]\n",
      " [ 0  0 26  0  0  0]\n",
      " [ 0  0  0 12  0  0]\n",
      " [ 0  0  0  0 10  0]\n",
      " [ 0  0  0  0  0 14]]\n"
     ]
    }
   ],
   "source": [
    "from sklearn.metrics import classification_report, confusion_matrix, plot_confusion_matrix\n",
    "print(classification_report(test_y, pred_y))\n",
    "print(confusion_matrix(test_y, pred_y))"
   ]
  },
  {
   "cell_type": "code",
   "execution_count": 67,
   "metadata": {},
   "outputs": [
    {
     "data": {
      "text/plain": [
       "array(['Music'], dtype=object)"
      ]
     },
     "execution_count": 67,
     "metadata": {},
     "output_type": "execute_result"
    }
   ],
   "source": [
    "#test vector\n",
    "SVM.predict(vect.transform(['sample text']))"
   ]
  },
  {
   "cell_type": "code",
   "execution_count": 75,
   "metadata": {},
   "outputs": [
    {
     "data": {
      "text/plain": [
       "<sklearn.metrics._plot.confusion_matrix.ConfusionMatrixDisplay at 0x7f83f375cf60>"
      ]
     },
     "execution_count": 75,
     "metadata": {},
     "output_type": "execute_result"
    },
    {
     "data": {
      "image/png": "[encoded data removed]",
      "text/plain": [
       "<Figure size 432x288 with 2 Axes>"
      ]
     },
     "metadata": {
      "needs_background": "light"
     },
     "output_type": "display_data"
    }
   ],
   "source": [
    "#import seaborn as sns\n",
    "import matplotlib.pyplot as plt\n",
    "\n",
    "cm = confusion_matrix(test_y, pred_y)\n",
    "\n",
    "plot_confusion_matrix(SVM, tes_x, test_y)"
   ]
  },
  {
   "cell_type": "code",
   "execution_count": 116,
   "metadata": {},
   "outputs": [
    {
     "name": "stdout",
     "output_type": "stream",
     "text": [
      "accuracy = 0.9634146341463414\n",
      "              precision    recall  f1-score   support\n",
      "\n",
      "      Comedy       0.89      1.00      0.94         8\n",
      "      Gaming       1.00      1.00      1.00        12\n",
      "       Music       0.93      0.96      0.94        26\n",
      "        News       1.00      1.00      1.00        12\n",
      "      Sports       1.00      0.90      0.95        10\n",
      "    Tutorial       1.00      0.93      0.96        14\n",
      "\n",
      "    accuracy                           0.96        82\n",
      "   macro avg       0.97      0.97      0.97        82\n",
      "weighted avg       0.97      0.96      0.96        82\n",
      "\n"
     ]
    },
    {
     "data": {
      "text/plain": [
       "<sklearn.metrics._plot.confusion_matrix.ConfusionMatrixDisplay at 0x7f83f330c160>"
      ]
     },
     "execution_count": 116,
     "metadata": {},
     "output_type": "execute_result"
    },
    {
     "data": {
      "image/png": "[encoded data removed]",
      "text/plain": [
       "<Figure size 432x288 with 2 Axes>"
      ]
     },
     "metadata": {
      "needs_background": "light"
     },
     "output_type": "display_data"
    }
   ],
   "source": [
    "#decision tree classifier\n",
    "\n",
    "DT = DecisionTreeClassifier(random_state=0)\n",
    "DT.fit(tr_x, train_y)\n",
    "\n",
    "predDT = DT.predict(tes_x)\n",
    "\n",
    "####\n",
    "acc = np.array(predDT == test_y, dtype=bool)\n",
    "u, cts = np.unique(acc, return_counts=\"True\")\n",
    "accuracy = cts[1]/np.sum(cts)\n",
    "####\n",
    "\n",
    "print(\"accuracy =\", accuracy)\n",
    "print(classification_report(test_y, predDT))\n",
    "plot_confusion_matrix(DT, tes_x, test_y)"
   ]
  },
  {
   "cell_type": "code",
   "execution_count": 115,
   "metadata": {},
   "outputs": [
    {
     "data": {
      "text/plain": [
       "array(['Music'], dtype=object)"
      ]
     },
     "execution_count": 115,
     "metadata": {},
     "output_type": "execute_result"
    }
   ],
   "source": [
    "DT.predict(vect.transform(['sample text']))"
   ]
  }
 ],
 "metadata": {
  "kernelspec": {
   "display_name": "Python 3",
   "language": "python",
   "name": "python3"
  },
  "language_info": {
   "codemirror_mode": {
    "name": "ipython",
    "version": 3
   },
   "file_extension": ".py",
   "mimetype": "text/x-python",
   "name": "python",
   "nbconvert_exporter": "python",
   "pygments_lexer": "ipython3",
   "version": "3.5.2"
  }
 },
 "nbformat": 4,
 "nbformat_minor": 4
}
